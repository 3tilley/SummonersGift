{
 "metadata": {
  "name": "",
  "signature": "sha256:7bf466c07b2a5ae31777c5929e3a3365f495897f6fc11c959dca2a2f4836c643"
 },
 "nbformat": 3,
 "nbformat_minor": 0,
 "worksheets": [
  {
   "cells": [
    {
     "cell_type": "code",
     "collapsed": false,
     "input": [
      "oldGameKey = 1763923202\n",
      "newGameKey = 2066637637"
     ],
     "language": "python",
     "metadata": {},
     "outputs": [],
     "prompt_number": 3
    },
    {
     "cell_type": "code",
     "collapsed": false,
     "input": [
      "# Time in seconds between the two above games being very current\n",
      "timeBetweenS = 3 * 30 * 24 * 3600.0"
     ],
     "language": "python",
     "metadata": {},
     "outputs": [],
     "prompt_number": 7
    },
    {
     "cell_type": "code",
     "collapsed": false,
     "input": [
      "# Rate of new games being created\n",
      "rate = (newGameKey - oldGameKey) / (timeBetweenS)\n",
      "rate\n",
      "# 39 games a second. Current Api Key allows for "
     ],
     "language": "python",
     "metadata": {},
     "outputs": [
      {
       "metadata": {},
       "output_type": "pyout",
       "prompt_number": 8,
       "text": [
        "38.929325488683126"
       ]
      }
     ],
     "prompt_number": 8
    },
    {
     "cell_type": "code",
     "collapsed": false,
     "input": [
      "# Current rate with two keys\n",
      "2 * (500.0 / (10* 60.0))\n",
      "# 1.666667\n",
      "# Conclusion, we're boned."
     ],
     "language": "python",
     "metadata": {},
     "outputs": [
      {
       "metadata": {},
       "output_type": "pyout",
       "prompt_number": 9,
       "text": [
        "1.6666666666666667"
       ]
      }
     ],
     "prompt_number": 9
    },
    {
     "cell_type": "code",
     "collapsed": false,
     "input": [],
     "language": "python",
     "metadata": {},
     "outputs": [
      {
       "metadata": {},
       "output_type": "pyout",
       "prompt_number": 10,
       "text": [
        "31500"
       ]
      }
     ],
     "prompt_number": 10
    }
   ],
   "metadata": {}
  }
 ]
}