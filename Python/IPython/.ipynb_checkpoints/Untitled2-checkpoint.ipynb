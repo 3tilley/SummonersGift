{
 "metadata": {
  "name": "",
  "signature": "sha256:89f66f4defdbffd150158f0e54f132785173573379e0816d6e49d9f9f4e23bc1"
 },
 "nbformat": 3,
 "nbformat_minor": 0,
 "worksheets": []
}