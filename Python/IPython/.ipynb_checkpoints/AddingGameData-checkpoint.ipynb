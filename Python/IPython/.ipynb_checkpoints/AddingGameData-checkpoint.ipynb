{
 "metadata": {
  "name": "",
  "signature": "sha256:10544490886dcaee0df1f46d28df0bad3d58934d320ed174d01c69adb847d64b"
 },
 "nbformat": 3,
 "nbformat_minor": 0,
 "worksheets": [
  {
   "cells": [
    {
     "cell_type": "code",
     "collapsed": false,
     "input": [
      "import os\n",
      "import sys\n",
      "import json\n",
      "import datetime\n",
      "from collections import Counter\n",
      "from __future__ import print_function\n",
      "\n",
      "import pandas as pd\n",
      "import numpy as np\n",
      "import matplotlib\n",
      "import matplotlib.pyplot as plt\n",
      "pd.set_option(\"display.max_columns\", 50)\n",
      "\n",
      "import sqlalchemy"
     ],
     "language": "python",
     "metadata": {},
     "outputs": [],
     "prompt_number": 8
    },
    {
     "cell_type": "code",
     "collapsed": false,
     "input": [
      "sys.path.append(r\"C:\\Users\\Max\\Documents\\GitHub\\SummonersGift\\Python\")\n",
      "sys.path.append(r\"C:\\Users\\Max\\Documents\\GitHub\\SummonersGift\\Connections\")\n",
      "\n",
      "import connections\n",
      "import dataLoading"
     ],
     "language": "python",
     "metadata": {},
     "outputs": [],
     "prompt_number": 2
    },
    {
     "cell_type": "code",
     "collapsed": false,
     "input": [
      "matchesPath = r'C:\\Users\\Max\\Documents\\GitHub\\SummonersGift\\Data\\Matches\\AprilData'\n",
      "summonerPath = r'C:\\Users\\Max\\Documents\\GitHub\\SummonersGift\\Data\\Summoners\\AprilData'\n",
      "df = pd.read_pickle(matchesPath + r\"\\Serialised\\lightMatches2.pickle\")\n",
      "df = df[(df.queueType == \"RANKED_SOLO_5x5\")]\n",
      "df.head()"
     ],
     "language": "python",
     "metadata": {},
     "outputs": [
      {
       "html": [
        "<div style=\"max-height:1000px;max-width:1500px;overflow:auto;\">\n",
        "<table border=\"1\" class=\"dataframe\">\n",
        "  <thead>\n",
        "    <tr style=\"text-align: right;\">\n",
        "      <th></th>\n",
        "      <th>mapId</th>\n",
        "      <th>matchCreation</th>\n",
        "      <th>matchId</th>\n",
        "      <th>matchVersion</th>\n",
        "      <th>platformId</th>\n",
        "      <th>queueType</th>\n",
        "      <th>region</th>\n",
        "    </tr>\n",
        "  </thead>\n",
        "  <tbody>\n",
        "    <tr>\n",
        "      <th>82</th>\n",
        "      <td>11</td>\n",
        "      <td>1429041903055</td>\n",
        "      <td>2066637767</td>\n",
        "      <td>5.7.0.275</td>\n",
        "      <td>EUW1</td>\n",
        "      <td>RANKED_SOLO_5x5</td>\n",
        "      <td>EUW</td>\n",
        "    </tr>\n",
        "    <tr>\n",
        "      <th>83</th>\n",
        "      <td>11</td>\n",
        "      <td>1429041903060</td>\n",
        "      <td>2066637768</td>\n",
        "      <td>5.7.0.275</td>\n",
        "      <td>EUW1</td>\n",
        "      <td>RANKED_SOLO_5x5</td>\n",
        "      <td>EUW</td>\n",
        "    </tr>\n",
        "    <tr>\n",
        "      <th>84</th>\n",
        "      <td>11</td>\n",
        "      <td>1429041903062</td>\n",
        "      <td>2066637769</td>\n",
        "      <td>5.7.0.275</td>\n",
        "      <td>EUW1</td>\n",
        "      <td>RANKED_SOLO_5x5</td>\n",
        "      <td>EUW</td>\n",
        "    </tr>\n",
        "    <tr>\n",
        "      <th>86</th>\n",
        "      <td>11</td>\n",
        "      <td>1429041903092</td>\n",
        "      <td>2066637771</td>\n",
        "      <td>5.7.0.275</td>\n",
        "      <td>EUW1</td>\n",
        "      <td>RANKED_SOLO_5x5</td>\n",
        "      <td>EUW</td>\n",
        "    </tr>\n",
        "    <tr>\n",
        "      <th>89</th>\n",
        "      <td>11</td>\n",
        "      <td>1429041903131</td>\n",
        "      <td>2066637775</td>\n",
        "      <td>5.7.0.275</td>\n",
        "      <td>EUW1</td>\n",
        "      <td>RANKED_SOLO_5x5</td>\n",
        "      <td>EUW</td>\n",
        "    </tr>\n",
        "  </tbody>\n",
        "</table>\n",
        "</div>"
       ],
       "metadata": {},
       "output_type": "pyout",
       "prompt_number": 3,
       "text": [
        "    mapId  matchCreation     matchId matchVersion platformId        queueType  \\\n",
        "82     11  1429041903055  2066637767    5.7.0.275       EUW1  RANKED_SOLO_5x5   \n",
        "83     11  1429041903060  2066637768    5.7.0.275       EUW1  RANKED_SOLO_5x5   \n",
        "84     11  1429041903062  2066637769    5.7.0.275       EUW1  RANKED_SOLO_5x5   \n",
        "86     11  1429041903092  2066637771    5.7.0.275       EUW1  RANKED_SOLO_5x5   \n",
        "89     11  1429041903131  2066637775    5.7.0.275       EUW1  RANKED_SOLO_5x5   \n",
        "\n",
        "   region  \n",
        "82    EUW  \n",
        "83    EUW  \n",
        "84    EUW  \n",
        "86    EUW  \n",
        "89    EUW  "
       ]
      }
     ],
     "prompt_number": 3
    },
    {
     "cell_type": "code",
     "collapsed": false,
     "input": [
      "a = dataLoading.loadMatches(df.matchId, matchesPath, fileExtension=\".json\", lightMatches=True, popCats=[\"participants\", \"participantIdentities\",\"timeline\"])"
     ],
     "language": "python",
     "metadata": {},
     "outputs": [
      {
       "output_type": "stream",
       "stream": "stdout",
       "text": [
        "10.0% complete\n",
        "20.0% complete"
       ]
      },
      {
       "output_type": "stream",
       "stream": "stdout",
       "text": [
        "\n",
        "30.0% complete"
       ]
      },
      {
       "output_type": "stream",
       "stream": "stdout",
       "text": [
        "\n",
        "40.0% complete"
       ]
      },
      {
       "output_type": "stream",
       "stream": "stdout",
       "text": [
        "\n",
        "50.0% complete"
       ]
      },
      {
       "output_type": "stream",
       "stream": "stdout",
       "text": [
        "\n",
        "60.0% complete"
       ]
      },
      {
       "output_type": "stream",
       "stream": "stdout",
       "text": [
        "\n",
        "70.0% complete"
       ]
      },
      {
       "output_type": "stream",
       "stream": "stdout",
       "text": [
        "\n",
        "80.0% complete"
       ]
      },
      {
       "output_type": "stream",
       "stream": "stdout",
       "text": [
        "\n",
        "90.0% complete"
       ]
      },
      {
       "output_type": "stream",
       "stream": "stdout",
       "text": [
        "\n"
       ]
      }
     ],
     "prompt_number": 4
    },
    {
     "cell_type": "code",
     "collapsed": false,
     "input": [
      "a[\"winner\"] = a.teams.apply(lambda x: x[0][\"teamId\"] if (x[0][\"winner\"]) else x[1][\"teamId\"])\n",
      "a.head()"
     ],
     "language": "python",
     "metadata": {},
     "outputs": [
      {
       "html": [
        "<div style=\"max-height:1000px;max-width:1500px;overflow:auto;\">\n",
        "<table border=\"1\" class=\"dataframe\">\n",
        "  <thead>\n",
        "    <tr style=\"text-align: right;\">\n",
        "      <th></th>\n",
        "      <th>mapId</th>\n",
        "      <th>matchCreation</th>\n",
        "      <th>matchDuration</th>\n",
        "      <th>matchId</th>\n",
        "      <th>matchMode</th>\n",
        "      <th>matchType</th>\n",
        "      <th>matchVersion</th>\n",
        "      <th>platformId</th>\n",
        "      <th>queueType</th>\n",
        "      <th>region</th>\n",
        "      <th>season</th>\n",
        "      <th>teams</th>\n",
        "      <th>winner</th>\n",
        "    </tr>\n",
        "  </thead>\n",
        "  <tbody>\n",
        "    <tr>\n",
        "      <th>0</th>\n",
        "      <td>11</td>\n",
        "      <td>1429041903055</td>\n",
        "      <td>2486</td>\n",
        "      <td>2066637767</td>\n",
        "      <td>CLASSIC</td>\n",
        "      <td>MATCHED_GAME</td>\n",
        "      <td>5.7.0.275</td>\n",
        "      <td>EUW1</td>\n",
        "      <td>RANKED_SOLO_5x5</td>\n",
        "      <td>EUW</td>\n",
        "      <td>SEASON2015</td>\n",
        "      <td>[{u'firstDragon': True, u'bans': [{u'pickTurn'...</td>\n",
        "      <td>200</td>\n",
        "    </tr>\n",
        "    <tr>\n",
        "      <th>1</th>\n",
        "      <td>11</td>\n",
        "      <td>1429041903060</td>\n",
        "      <td>2005</td>\n",
        "      <td>2066637768</td>\n",
        "      <td>CLASSIC</td>\n",
        "      <td>MATCHED_GAME</td>\n",
        "      <td>5.7.0.275</td>\n",
        "      <td>EUW1</td>\n",
        "      <td>RANKED_SOLO_5x5</td>\n",
        "      <td>EUW</td>\n",
        "      <td>SEASON2015</td>\n",
        "      <td>[{u'firstDragon': True, u'bans': [{u'pickTurn'...</td>\n",
        "      <td>200</td>\n",
        "    </tr>\n",
        "    <tr>\n",
        "      <th>2</th>\n",
        "      <td>11</td>\n",
        "      <td>1429041903062</td>\n",
        "      <td>1262</td>\n",
        "      <td>2066637769</td>\n",
        "      <td>CLASSIC</td>\n",
        "      <td>MATCHED_GAME</td>\n",
        "      <td>5.7.0.275</td>\n",
        "      <td>EUW1</td>\n",
        "      <td>RANKED_SOLO_5x5</td>\n",
        "      <td>EUW</td>\n",
        "      <td>SEASON2015</td>\n",
        "      <td>[{u'firstDragon': False, u'bans': [{u'pickTurn...</td>\n",
        "      <td>200</td>\n",
        "    </tr>\n",
        "    <tr>\n",
        "      <th>3</th>\n",
        "      <td>11</td>\n",
        "      <td>1429041903092</td>\n",
        "      <td>1722</td>\n",
        "      <td>2066637771</td>\n",
        "      <td>CLASSIC</td>\n",
        "      <td>MATCHED_GAME</td>\n",
        "      <td>5.7.0.275</td>\n",
        "      <td>EUW1</td>\n",
        "      <td>RANKED_SOLO_5x5</td>\n",
        "      <td>EUW</td>\n",
        "      <td>SEASON2015</td>\n",
        "      <td>[{u'firstDragon': False, u'bans': [{u'pickTurn...</td>\n",
        "      <td>200</td>\n",
        "    </tr>\n",
        "    <tr>\n",
        "      <th>4</th>\n",
        "      <td>11</td>\n",
        "      <td>1429041903131</td>\n",
        "      <td>2126</td>\n",
        "      <td>2066637775</td>\n",
        "      <td>CLASSIC</td>\n",
        "      <td>MATCHED_GAME</td>\n",
        "      <td>5.7.0.275</td>\n",
        "      <td>EUW1</td>\n",
        "      <td>RANKED_SOLO_5x5</td>\n",
        "      <td>EUW</td>\n",
        "      <td>SEASON2015</td>\n",
        "      <td>[{u'firstDragon': True, u'bans': [{u'pickTurn'...</td>\n",
        "      <td>100</td>\n",
        "    </tr>\n",
        "  </tbody>\n",
        "</table>\n",
        "</div>"
       ],
       "metadata": {},
       "output_type": "pyout",
       "prompt_number": 5,
       "text": [
        "   mapId  matchCreation  matchDuration     matchId matchMode     matchType  \\\n",
        "0     11  1429041903055           2486  2066637767   CLASSIC  MATCHED_GAME   \n",
        "1     11  1429041903060           2005  2066637768   CLASSIC  MATCHED_GAME   \n",
        "2     11  1429041903062           1262  2066637769   CLASSIC  MATCHED_GAME   \n",
        "3     11  1429041903092           1722  2066637771   CLASSIC  MATCHED_GAME   \n",
        "4     11  1429041903131           2126  2066637775   CLASSIC  MATCHED_GAME   \n",
        "\n",
        "  matchVersion platformId        queueType region      season  \\\n",
        "0    5.7.0.275       EUW1  RANKED_SOLO_5x5    EUW  SEASON2015   \n",
        "1    5.7.0.275       EUW1  RANKED_SOLO_5x5    EUW  SEASON2015   \n",
        "2    5.7.0.275       EUW1  RANKED_SOLO_5x5    EUW  SEASON2015   \n",
        "3    5.7.0.275       EUW1  RANKED_SOLO_5x5    EUW  SEASON2015   \n",
        "4    5.7.0.275       EUW1  RANKED_SOLO_5x5    EUW  SEASON2015   \n",
        "\n",
        "                                               teams  winner  \n",
        "0  [{u'firstDragon': True, u'bans': [{u'pickTurn'...     200  \n",
        "1  [{u'firstDragon': True, u'bans': [{u'pickTurn'...     200  \n",
        "2  [{u'firstDragon': False, u'bans': [{u'pickTurn...     200  \n",
        "3  [{u'firstDragon': False, u'bans': [{u'pickTurn...     200  \n",
        "4  [{u'firstDragon': True, u'bans': [{u'pickTurn'...     100  "
       ]
      }
     ],
     "prompt_number": 5
    },
    {
     "cell_type": "code",
     "collapsed": false,
     "input": [
      "e = sqlalchemy.create_engine(connections.dbMegaConnectionString)\n",
      "a.drop([\"teams\"], axis=1).to_sql(\"RankedGameData\",e)\n"
     ],
     "language": "python",
     "metadata": {},
     "outputs": [],
     "prompt_number": 12
    }
   ],
   "metadata": {}
  }
 ]
}