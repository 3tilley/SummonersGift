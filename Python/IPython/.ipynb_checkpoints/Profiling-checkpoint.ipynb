{
 "metadata": {
  "name": "",
  "signature": "sha256:55e72e12bd73e5ad2836b85613d98d926208b3b0e4b0af41f946e3d9e266ece3"
 },
 "nbformat": 3,
 "nbformat_minor": 0,
 "worksheets": [
  {
   "cells": [
    {
     "cell_type": "code",
     "collapsed": false,
     "input": [
      "%matplotlib inline"
     ],
     "language": "python",
     "metadata": {},
     "outputs": [],
     "prompt_number": 1
    },
    {
     "cell_type": "code",
     "collapsed": false,
     "input": [
      "import os\n",
      "import sys\n",
      "import json\n",
      "import datetime\n",
      "from collections import Counter\n",
      "from __future__ import print_function\n",
      "\n",
      "import pandas as pd\n",
      "import numpy as np\n",
      "import matplotlib\n",
      "import matplotlib.pyplot as plt\n",
      "\n",
      "import cProfile\n",
      "import pstats"
     ],
     "language": "python",
     "metadata": {},
     "outputs": [],
     "prompt_number": 2
    },
    {
     "cell_type": "code",
     "collapsed": false,
     "input": [
      "sys.path.append(r\"C:\\Users\\Max\\Documents\\GitHub\\SummonersGift\\Python\")\n",
      "import dataLoading"
     ],
     "language": "python",
     "metadata": {},
     "outputs": [],
     "prompt_number": 3
    },
    {
     "cell_type": "code",
     "collapsed": false,
     "input": [
      "cProfile.run('dataLoading.prepareCleanRanked(dflm2, matchesPath, summonerPath)','profStats')"
     ],
     "language": "python",
     "metadata": {},
     "outputs": []
    },
    {
     "cell_type": "code",
     "collapsed": false,
     "input": [
      "p = pstats.Stats(\"profStats\")\n",
      "p.strip_dirs().sort_stats('time').print_stats()"
     ],
     "language": "python",
     "metadata": {},
     "outputs": []
    }
   ],
   "metadata": {}
  }
 ]
}