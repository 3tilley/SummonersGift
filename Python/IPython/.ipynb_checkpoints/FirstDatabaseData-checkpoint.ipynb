{
 "metadata": {
  "name": "",
  "signature": "sha256:9f70a4094f54b12119bb57d6d1a31f147d7ba9920f84ad0068750da3f1698c97"
 },
 "nbformat": 3,
 "nbformat_minor": 0,
 "worksheets": [
  {
   "cells": [
    {
     "cell_type": "code",
     "collapsed": false,
     "input": [
      "%matplotlib inline"
     ],
     "language": "python",
     "metadata": {},
     "outputs": [],
     "prompt_number": 1
    },
    {
     "cell_type": "code",
     "collapsed": false,
     "input": [
      "import os\n",
      "import sys\n",
      "import json\n",
      "import datetime\n",
      "from collections import Counter\n",
      "from __future__ import print_function\n",
      "\n",
      "import pandas as pd\n",
      "import numpy as np\n",
      "import matplotlib\n",
      "import matplotlib.pyplot as plt\n",
      "\n",
      "import sqlalchemy\n",
      "pd.set_option(\"display.max_columns\", 50)"
     ],
     "language": "python",
     "metadata": {},
     "outputs": [],
     "prompt_number": 2
    },
    {
     "cell_type": "code",
     "collapsed": false,
     "input": [
      "sys.path.append(r\"C:\\Users\\Max\\Documents\\GitHub\\SummonersGift\\Python\")\n",
      "sys.path.append(r\"C:\\Users\\Max\\Documents\\GitHub\\SummonersGift\\Connections\")\n",
      "\n",
      "import connections\n",
      "import dataLoading"
     ],
     "language": "python",
     "metadata": {},
     "outputs": [],
     "prompt_number": 3
    },
    {
     "cell_type": "code",
     "collapsed": false,
     "input": [
      "eMega = sqlalchemy.create_engine(connections.dbMegaConnectionString)\n",
      "eDb = sqlalchemy.create_engine(connections.dbConnectionString)"
     ],
     "language": "python",
     "metadata": {},
     "outputs": [],
     "prompt_number": 4
    },
    {
     "cell_type": "code",
     "collapsed": false,
     "input": [
      "%time df10 = pd.read_sql(\"TenMinuteStats\",eMega).drop([\"index\"], axis=1).drop_duplicates()"
     ],
     "language": "python",
     "metadata": {},
     "outputs": [
      {
       "output_type": "stream",
       "stream": "stdout",
       "text": [
        "Wall time: 17.5 s\n"
       ]
      }
     ],
     "prompt_number": 5
    },
    {
     "cell_type": "code",
     "collapsed": false,
     "input": [
      "%time dfr = pd.read_sql(\"RankedData\",eMega)"
     ],
     "language": "python",
     "metadata": {},
     "outputs": [
      {
       "output_type": "stream",
       "stream": "stdout",
       "text": [
        "Wall time: 6.91 s\n"
       ]
      }
     ],
     "prompt_number": 6
    },
    {
     "cell_type": "code",
     "collapsed": false,
     "input": [
      "df2 = df10[(df10.timePeriod==\"zeroToTen\")].copy()"
     ],
     "language": "python",
     "metadata": {},
     "outputs": [],
     "prompt_number": 29
    },
    {
     "cell_type": "code",
     "collapsed": false,
     "input": [
      "print(len(df2))"
     ],
     "language": "python",
     "metadata": {},
     "outputs": [
      {
       "output_type": "stream",
       "stream": "stdout",
       "text": [
        "556845\n"
       ]
      }
     ],
     "prompt_number": 8
    },
    {
     "cell_type": "code",
     "collapsed": false,
     "input": [
      "dfstat = pd.read_sql_table(\"Stat\",eDb)\n",
      "dfstat.head()"
     ],
     "language": "python",
     "metadata": {},
     "outputs": [
      {
       "html": [
        "<div style=\"max-height:1000px;max-width:1500px;overflow:auto;\">\n",
        "<table border=\"1\" class=\"dataframe\">\n",
        "  <thead>\n",
        "    <tr style=\"text-align: right;\">\n",
        "      <th></th>\n",
        "      <th>StatId</th>\n",
        "      <th>StatName</th>\n",
        "      <th>StatCode</th>\n",
        "      <th>Description</th>\n",
        "      <th>JsonEndPoint</th>\n",
        "      <th>JsonPath</th>\n",
        "      <th>IsStraightFromJson</th>\n",
        "    </tr>\n",
        "  </thead>\n",
        "  <tbody>\n",
        "    <tr>\n",
        "      <th>0</th>\n",
        "      <td>1</td>\n",
        "      <td>Creep Score</td>\n",
        "      <td>Cs</td>\n",
        "      <td>Number of lane creeps killed. Needs to be inte...</td>\n",
        "      <td>/api/lol/{region}/v2.2/match/{matchId}</td>\n",
        "      <td>/participants/[]/timeline/creepsPerMinDeltas</td>\n",
        "      <td>False</td>\n",
        "    </tr>\n",
        "    <tr>\n",
        "      <th>1</th>\n",
        "      <td>2</td>\n",
        "      <td>Damage Taken</td>\n",
        "      <td>DamageTaken</td>\n",
        "      <td>Damage taken from all sources. Needs to be int...</td>\n",
        "      <td>/api/lol/{region}/v2.2/match/{matchId}</td>\n",
        "      <td>/participants/[]/timeline/damageTakenPerMinDeltas</td>\n",
        "      <td>False</td>\n",
        "    </tr>\n",
        "    <tr>\n",
        "      <th>2</th>\n",
        "      <td>3</td>\n",
        "      <td>Gold</td>\n",
        "      <td>Gold</td>\n",
        "      <td>Gold accumulated per minute. Needs to be integ...</td>\n",
        "      <td>/api/lol/{region}/v2.2/match/{matchId}</td>\n",
        "      <td>/participants/[]/timeline/goldPerMinDeltas</td>\n",
        "      <td>False</td>\n",
        "    </tr>\n",
        "    <tr>\n",
        "      <th>3</th>\n",
        "      <td>4</td>\n",
        "      <td>Experience</td>\n",
        "      <td>Xp</td>\n",
        "      <td>Experienced earned. Needs to be integrated and...</td>\n",
        "      <td>/api/lol/{region}/v2.2/match/{matchId}</td>\n",
        "      <td>/participants/[]/timeline/xpPerMinDeltas</td>\n",
        "      <td>False</td>\n",
        "    </tr>\n",
        "  </tbody>\n",
        "</table>\n",
        "</div>"
       ],
       "metadata": {},
       "output_type": "pyout",
       "prompt_number": 8,
       "text": [
        "   StatId      StatName     StatCode  \\\n",
        "0       1   Creep Score           Cs   \n",
        "1       2  Damage Taken  DamageTaken   \n",
        "2       3          Gold         Gold   \n",
        "3       4    Experience           Xp   \n",
        "\n",
        "                                         Description  \\\n",
        "0  Number of lane creeps killed. Needs to be inte...   \n",
        "1  Damage taken from all sources. Needs to be int...   \n",
        "2  Gold accumulated per minute. Needs to be integ...   \n",
        "3  Experienced earned. Needs to be integrated and...   \n",
        "\n",
        "                             JsonEndPoint  \\\n",
        "0  /api/lol/{region}/v2.2/match/{matchId}   \n",
        "1  /api/lol/{region}/v2.2/match/{matchId}   \n",
        "2  /api/lol/{region}/v2.2/match/{matchId}   \n",
        "3  /api/lol/{region}/v2.2/match/{matchId}   \n",
        "\n",
        "                                            JsonPath IsStraightFromJson  \n",
        "0       /participants/[]/timeline/creepsPerMinDeltas              False  \n",
        "1  /participants/[]/timeline/damageTakenPerMinDeltas              False  \n",
        "2         /participants/[]/timeline/goldPerMinDeltas              False  \n",
        "3           /participants/[]/timeline/xpPerMinDeltas              False  "
       ]
      }
     ],
     "prompt_number": 8
    },
    {
     "cell_type": "code",
     "collapsed": false,
     "input": [
      "dfstat[\"JsonName\"] = dfstat.JsonPath.apply(lambda s: s.split(\"/\")[-1])\n",
      "dfstat.head()"
     ],
     "language": "python",
     "metadata": {},
     "outputs": [
      {
       "html": [
        "<div style=\"max-height:1000px;max-width:1500px;overflow:auto;\">\n",
        "<table border=\"1\" class=\"dataframe\">\n",
        "  <thead>\n",
        "    <tr style=\"text-align: right;\">\n",
        "      <th></th>\n",
        "      <th>StatId</th>\n",
        "      <th>StatName</th>\n",
        "      <th>StatCode</th>\n",
        "      <th>Description</th>\n",
        "      <th>JsonEndPoint</th>\n",
        "      <th>JsonPath</th>\n",
        "      <th>IsStraightFromJson</th>\n",
        "      <th>JsonName</th>\n",
        "    </tr>\n",
        "  </thead>\n",
        "  <tbody>\n",
        "    <tr>\n",
        "      <th>0</th>\n",
        "      <td>1</td>\n",
        "      <td>Creep Score</td>\n",
        "      <td>Cs</td>\n",
        "      <td>Number of lane creeps killed. Needs to be inte...</td>\n",
        "      <td>/api/lol/{region}/v2.2/match/{matchId}</td>\n",
        "      <td>/participants/[]/timeline/creepsPerMinDeltas</td>\n",
        "      <td>False</td>\n",
        "      <td>creepsPerMinDeltas</td>\n",
        "    </tr>\n",
        "    <tr>\n",
        "      <th>1</th>\n",
        "      <td>2</td>\n",
        "      <td>Damage Taken</td>\n",
        "      <td>DamageTaken</td>\n",
        "      <td>Damage taken from all sources. Needs to be int...</td>\n",
        "      <td>/api/lol/{region}/v2.2/match/{matchId}</td>\n",
        "      <td>/participants/[]/timeline/damageTakenPerMinDeltas</td>\n",
        "      <td>False</td>\n",
        "      <td>damageTakenPerMinDeltas</td>\n",
        "    </tr>\n",
        "    <tr>\n",
        "      <th>2</th>\n",
        "      <td>3</td>\n",
        "      <td>Gold</td>\n",
        "      <td>Gold</td>\n",
        "      <td>Gold accumulated per minute. Needs to be integ...</td>\n",
        "      <td>/api/lol/{region}/v2.2/match/{matchId}</td>\n",
        "      <td>/participants/[]/timeline/goldPerMinDeltas</td>\n",
        "      <td>False</td>\n",
        "      <td>goldPerMinDeltas</td>\n",
        "    </tr>\n",
        "    <tr>\n",
        "      <th>3</th>\n",
        "      <td>4</td>\n",
        "      <td>Experience</td>\n",
        "      <td>Xp</td>\n",
        "      <td>Experienced earned. Needs to be integrated and...</td>\n",
        "      <td>/api/lol/{region}/v2.2/match/{matchId}</td>\n",
        "      <td>/participants/[]/timeline/xpPerMinDeltas</td>\n",
        "      <td>False</td>\n",
        "      <td>xpPerMinDeltas</td>\n",
        "    </tr>\n",
        "  </tbody>\n",
        "</table>\n",
        "</div>"
       ],
       "metadata": {},
       "output_type": "pyout",
       "prompt_number": 9,
       "text": [
        "   StatId      StatName     StatCode  \\\n",
        "0       1   Creep Score           Cs   \n",
        "1       2  Damage Taken  DamageTaken   \n",
        "2       3          Gold         Gold   \n",
        "3       4    Experience           Xp   \n",
        "\n",
        "                                         Description  \\\n",
        "0  Number of lane creeps killed. Needs to be inte...   \n",
        "1  Damage taken from all sources. Needs to be int...   \n",
        "2  Gold accumulated per minute. Needs to be integ...   \n",
        "3  Experienced earned. Needs to be integrated and...   \n",
        "\n",
        "                             JsonEndPoint  \\\n",
        "0  /api/lol/{region}/v2.2/match/{matchId}   \n",
        "1  /api/lol/{region}/v2.2/match/{matchId}   \n",
        "2  /api/lol/{region}/v2.2/match/{matchId}   \n",
        "3  /api/lol/{region}/v2.2/match/{matchId}   \n",
        "\n",
        "                                            JsonPath IsStraightFromJson  \\\n",
        "0       /participants/[]/timeline/creepsPerMinDeltas              False   \n",
        "1  /participants/[]/timeline/damageTakenPerMinDeltas              False   \n",
        "2         /participants/[]/timeline/goldPerMinDeltas              False   \n",
        "3           /participants/[]/timeline/xpPerMinDeltas              False   \n",
        "\n",
        "                  JsonName  \n",
        "0       creepsPerMinDeltas  \n",
        "1  damageTakenPerMinDeltas  \n",
        "2         goldPerMinDeltas  \n",
        "3           xpPerMinDeltas  "
       ]
      }
     ],
     "prompt_number": 9
    },
    {
     "cell_type": "code",
     "collapsed": false,
     "input": [
      "df3 = pd.melt(df2, id_vars=[\"matchId\",\"participantId\",\"timePeriod\"], var_name=\"JsonName\", value_name=\"statValue\")\n",
      "print(len(df3))\n",
      "df3[\"statValue\"] = df3.statValue * 10.0\n",
      "df3 = df3.merge(dfstat[[\"JsonName\",\"StatName\",\"StatId\"]], \"inner\", on=\"JsonName\")\n",
      "print(len(df3))\n",
      "df3.head()\n",
      "#df2 = df2.merge(dfstat[[\"JsonName\",\"StatName\",\"StatId\"]], \"left\", left_on=)"
     ],
     "language": "python",
     "metadata": {},
     "outputs": [
      {
       "output_type": "stream",
       "stream": "stdout",
       "text": [
        "3875690\n",
        "2214680"
       ]
      },
      {
       "output_type": "stream",
       "stream": "stdout",
       "text": [
        "\n"
       ]
      },
      {
       "html": [
        "<div style=\"max-height:1000px;max-width:1500px;overflow:auto;\">\n",
        "<table border=\"1\" class=\"dataframe\">\n",
        "  <thead>\n",
        "    <tr style=\"text-align: right;\">\n",
        "      <th></th>\n",
        "      <th>matchId</th>\n",
        "      <th>participantId</th>\n",
        "      <th>timePeriod</th>\n",
        "      <th>JsonName</th>\n",
        "      <th>statValue</th>\n",
        "      <th>StatName</th>\n",
        "      <th>StatId</th>\n",
        "    </tr>\n",
        "  </thead>\n",
        "  <tbody>\n",
        "    <tr>\n",
        "      <th>0</th>\n",
        "      <td>2066637767</td>\n",
        "      <td>1</td>\n",
        "      <td>zeroToTen</td>\n",
        "      <td>creepsPerMinDeltas</td>\n",
        "      <td>50</td>\n",
        "      <td>Creep Score</td>\n",
        "      <td>1</td>\n",
        "    </tr>\n",
        "    <tr>\n",
        "      <th>1</th>\n",
        "      <td>2066637767</td>\n",
        "      <td>2</td>\n",
        "      <td>zeroToTen</td>\n",
        "      <td>creepsPerMinDeltas</td>\n",
        "      <td>75</td>\n",
        "      <td>Creep Score</td>\n",
        "      <td>1</td>\n",
        "    </tr>\n",
        "    <tr>\n",
        "      <th>2</th>\n",
        "      <td>2066637767</td>\n",
        "      <td>3</td>\n",
        "      <td>zeroToTen</td>\n",
        "      <td>creepsPerMinDeltas</td>\n",
        "      <td>46</td>\n",
        "      <td>Creep Score</td>\n",
        "      <td>1</td>\n",
        "    </tr>\n",
        "    <tr>\n",
        "      <th>3</th>\n",
        "      <td>2066637767</td>\n",
        "      <td>4</td>\n",
        "      <td>zeroToTen</td>\n",
        "      <td>creepsPerMinDeltas</td>\n",
        "      <td>4</td>\n",
        "      <td>Creep Score</td>\n",
        "      <td>1</td>\n",
        "    </tr>\n",
        "    <tr>\n",
        "      <th>4</th>\n",
        "      <td>2066637767</td>\n",
        "      <td>5</td>\n",
        "      <td>zeroToTen</td>\n",
        "      <td>creepsPerMinDeltas</td>\n",
        "      <td>0</td>\n",
        "      <td>Creep Score</td>\n",
        "      <td>1</td>\n",
        "    </tr>\n",
        "  </tbody>\n",
        "</table>\n",
        "</div>"
       ],
       "metadata": {},
       "output_type": "pyout",
       "prompt_number": 10,
       "text": [
        "      matchId  participantId timePeriod            JsonName  statValue  \\\n",
        "0  2066637767              1  zeroToTen  creepsPerMinDeltas         50   \n",
        "1  2066637767              2  zeroToTen  creepsPerMinDeltas         75   \n",
        "2  2066637767              3  zeroToTen  creepsPerMinDeltas         46   \n",
        "3  2066637767              4  zeroToTen  creepsPerMinDeltas          4   \n",
        "4  2066637767              5  zeroToTen  creepsPerMinDeltas          0   \n",
        "\n",
        "      StatName  StatId  \n",
        "0  Creep Score       1  \n",
        "1  Creep Score       1  \n",
        "2  Creep Score       1  \n",
        "3  Creep Score       1  \n",
        "4  Creep Score       1  "
       ]
      }
     ],
     "prompt_number": 10
    },
    {
     "cell_type": "code",
     "collapsed": false,
     "input": [
      "df4 = dfr.merge(df3, \"left\", on=[\"matchId\", \"participantId\"] )\n",
      "print(len(dfr) * 4)\n",
      "print(len(df4))\n",
      "assert (len(dfr) * 4)==len(df4), \"Summoners data got longer\"\n",
      "#test3 = test2[(test2.timePeriod==\"zeroToTen\") & (test2.lane==\"JUNGLE\")]\n",
      "df4.head()"
     ],
     "language": "python",
     "metadata": {},
     "outputs": [
      {
       "output_type": "stream",
       "stream": "stdout",
       "text": [
        "2214780\n",
        "2214780\n"
       ]
      },
      {
       "html": [
        "<div style=\"max-height:1000px;max-width:1500px;overflow:auto;\">\n",
        "<table border=\"1\" class=\"dataframe\">\n",
        "  <thead>\n",
        "    <tr style=\"text-align: right;\">\n",
        "      <th></th>\n",
        "      <th>index</th>\n",
        "      <th>matchId</th>\n",
        "      <th>participantId</th>\n",
        "      <th>summonerId</th>\n",
        "      <th>championId</th>\n",
        "      <th>spell1Id</th>\n",
        "      <th>spell2Id</th>\n",
        "      <th>teamId</th>\n",
        "      <th>isFreshBlood</th>\n",
        "      <th>isHotStreak</th>\n",
        "      <th>isInactive</th>\n",
        "      <th>isVeteran</th>\n",
        "      <th>leaguePoints</th>\n",
        "      <th>losses</th>\n",
        "      <th>playerOrTeamId</th>\n",
        "      <th>playerOrTeamName</th>\n",
        "      <th>wins</th>\n",
        "      <th>isStandardLanesTeam</th>\n",
        "      <th>isStandardLanesGame</th>\n",
        "      <th>tier</th>\n",
        "      <th>division</th>\n",
        "      <th>lane</th>\n",
        "      <th>role</th>\n",
        "      <th>timePeriod</th>\n",
        "      <th>JsonName</th>\n",
        "      <th>statValue</th>\n",
        "      <th>StatName</th>\n",
        "      <th>StatId</th>\n",
        "    </tr>\n",
        "  </thead>\n",
        "  <tbody>\n",
        "    <tr>\n",
        "      <th>0</th>\n",
        "      <td>0</td>\n",
        "      <td>2066637767</td>\n",
        "      <td>1</td>\n",
        "      <td>31640934</td>\n",
        "      <td>21</td>\n",
        "      <td>4</td>\n",
        "      <td>7</td>\n",
        "      <td>100</td>\n",
        "      <td>False</td>\n",
        "      <td>False</td>\n",
        "      <td>False</td>\n",
        "      <td>False</td>\n",
        "      <td>0</td>\n",
        "      <td>112</td>\n",
        "      <td>31640934</td>\n",
        "      <td>NaN</td>\n",
        "      <td>123</td>\n",
        "      <td>True</td>\n",
        "      <td>True</td>\n",
        "      <td>PLATINUM</td>\n",
        "      <td>V</td>\n",
        "      <td>BOTTOM</td>\n",
        "      <td>DUO_CARRY</td>\n",
        "      <td>zeroToTen</td>\n",
        "      <td>creepsPerMinDeltas</td>\n",
        "      <td>50</td>\n",
        "      <td>Creep Score</td>\n",
        "      <td>1</td>\n",
        "    </tr>\n",
        "    <tr>\n",
        "      <th>1</th>\n",
        "      <td>0</td>\n",
        "      <td>2066637767</td>\n",
        "      <td>1</td>\n",
        "      <td>31640934</td>\n",
        "      <td>21</td>\n",
        "      <td>4</td>\n",
        "      <td>7</td>\n",
        "      <td>100</td>\n",
        "      <td>False</td>\n",
        "      <td>False</td>\n",
        "      <td>False</td>\n",
        "      <td>False</td>\n",
        "      <td>0</td>\n",
        "      <td>112</td>\n",
        "      <td>31640934</td>\n",
        "      <td>NaN</td>\n",
        "      <td>123</td>\n",
        "      <td>True</td>\n",
        "      <td>True</td>\n",
        "      <td>PLATINUM</td>\n",
        "      <td>V</td>\n",
        "      <td>BOTTOM</td>\n",
        "      <td>DUO_CARRY</td>\n",
        "      <td>zeroToTen</td>\n",
        "      <td>damageTakenPerMinDeltas</td>\n",
        "      <td>3474</td>\n",
        "      <td>Damage Taken</td>\n",
        "      <td>2</td>\n",
        "    </tr>\n",
        "    <tr>\n",
        "      <th>2</th>\n",
        "      <td>0</td>\n",
        "      <td>2066637767</td>\n",
        "      <td>1</td>\n",
        "      <td>31640934</td>\n",
        "      <td>21</td>\n",
        "      <td>4</td>\n",
        "      <td>7</td>\n",
        "      <td>100</td>\n",
        "      <td>False</td>\n",
        "      <td>False</td>\n",
        "      <td>False</td>\n",
        "      <td>False</td>\n",
        "      <td>0</td>\n",
        "      <td>112</td>\n",
        "      <td>31640934</td>\n",
        "      <td>NaN</td>\n",
        "      <td>123</td>\n",
        "      <td>True</td>\n",
        "      <td>True</td>\n",
        "      <td>PLATINUM</td>\n",
        "      <td>V</td>\n",
        "      <td>BOTTOM</td>\n",
        "      <td>DUO_CARRY</td>\n",
        "      <td>zeroToTen</td>\n",
        "      <td>goldPerMinDeltas</td>\n",
        "      <td>2927</td>\n",
        "      <td>Gold</td>\n",
        "      <td>3</td>\n",
        "    </tr>\n",
        "    <tr>\n",
        "      <th>3</th>\n",
        "      <td>0</td>\n",
        "      <td>2066637767</td>\n",
        "      <td>1</td>\n",
        "      <td>31640934</td>\n",
        "      <td>21</td>\n",
        "      <td>4</td>\n",
        "      <td>7</td>\n",
        "      <td>100</td>\n",
        "      <td>False</td>\n",
        "      <td>False</td>\n",
        "      <td>False</td>\n",
        "      <td>False</td>\n",
        "      <td>0</td>\n",
        "      <td>112</td>\n",
        "      <td>31640934</td>\n",
        "      <td>NaN</td>\n",
        "      <td>123</td>\n",
        "      <td>True</td>\n",
        "      <td>True</td>\n",
        "      <td>PLATINUM</td>\n",
        "      <td>V</td>\n",
        "      <td>BOTTOM</td>\n",
        "      <td>DUO_CARRY</td>\n",
        "      <td>zeroToTen</td>\n",
        "      <td>xpPerMinDeltas</td>\n",
        "      <td>3077</td>\n",
        "      <td>Experience</td>\n",
        "      <td>4</td>\n",
        "    </tr>\n",
        "    <tr>\n",
        "      <th>4</th>\n",
        "      <td>1</td>\n",
        "      <td>2066637767</td>\n",
        "      <td>2</td>\n",
        "      <td>20054578</td>\n",
        "      <td>17</td>\n",
        "      <td>4</td>\n",
        "      <td>14</td>\n",
        "      <td>100</td>\n",
        "      <td>False</td>\n",
        "      <td>False</td>\n",
        "      <td>False</td>\n",
        "      <td>True</td>\n",
        "      <td>99</td>\n",
        "      <td>155</td>\n",
        "      <td>20054578</td>\n",
        "      <td>NaN</td>\n",
        "      <td>166</td>\n",
        "      <td>True</td>\n",
        "      <td>True</td>\n",
        "      <td>PLATINUM</td>\n",
        "      <td>V</td>\n",
        "      <td>MIDDLE</td>\n",
        "      <td>SOLO</td>\n",
        "      <td>zeroToTen</td>\n",
        "      <td>creepsPerMinDeltas</td>\n",
        "      <td>75</td>\n",
        "      <td>Creep Score</td>\n",
        "      <td>1</td>\n",
        "    </tr>\n",
        "  </tbody>\n",
        "</table>\n",
        "</div>"
       ],
       "metadata": {},
       "output_type": "pyout",
       "prompt_number": 11,
       "text": [
        "   index     matchId  participantId  summonerId  championId  spell1Id  \\\n",
        "0      0  2066637767              1    31640934          21         4   \n",
        "1      0  2066637767              1    31640934          21         4   \n",
        "2      0  2066637767              1    31640934          21         4   \n",
        "3      0  2066637767              1    31640934          21         4   \n",
        "4      1  2066637767              2    20054578          17         4   \n",
        "\n",
        "   spell2Id  teamId isFreshBlood isHotStreak isInactive isVeteran  \\\n",
        "0         7     100        False       False      False     False   \n",
        "1         7     100        False       False      False     False   \n",
        "2         7     100        False       False      False     False   \n",
        "3         7     100        False       False      False     False   \n",
        "4        14     100        False       False      False      True   \n",
        "\n",
        "   leaguePoints  losses  playerOrTeamId  playerOrTeamName  wins  \\\n",
        "0             0     112        31640934               NaN   123   \n",
        "1             0     112        31640934               NaN   123   \n",
        "2             0     112        31640934               NaN   123   \n",
        "3             0     112        31640934               NaN   123   \n",
        "4            99     155        20054578               NaN   166   \n",
        "\n",
        "  isStandardLanesTeam isStandardLanesGame      tier division    lane  \\\n",
        "0                True                True  PLATINUM        V  BOTTOM   \n",
        "1                True                True  PLATINUM        V  BOTTOM   \n",
        "2                True                True  PLATINUM        V  BOTTOM   \n",
        "3                True                True  PLATINUM        V  BOTTOM   \n",
        "4                True                True  PLATINUM        V  MIDDLE   \n",
        "\n",
        "        role timePeriod                 JsonName  statValue      StatName  \\\n",
        "0  DUO_CARRY  zeroToTen       creepsPerMinDeltas         50   Creep Score   \n",
        "1  DUO_CARRY  zeroToTen  damageTakenPerMinDeltas       3474  Damage Taken   \n",
        "2  DUO_CARRY  zeroToTen         goldPerMinDeltas       2927          Gold   \n",
        "3  DUO_CARRY  zeroToTen           xpPerMinDeltas       3077    Experience   \n",
        "4       SOLO  zeroToTen       creepsPerMinDeltas         75   Creep Score   \n",
        "\n",
        "   StatId  \n",
        "0       1  \n",
        "1       2  \n",
        "2       3  \n",
        "3       4  \n",
        "4       1  "
       ]
      }
     ],
     "prompt_number": 11
    },
    {
     "cell_type": "code",
     "collapsed": false,
     "input": [
      "df5 = df4[[\"tier\", \"division\", \"championId\", \"lane\", \"role\", \"JsonName\", \"statValue\", \"StatName\", \"StatId\"]].copy()\n",
      "#df5.pivot(columns=[\"JsonName\"], values=[\"statValue\"])\n",
      "#df5.pivot()\n",
      "df6 = df5[[\"tier\",\"division\",\"statValue\",\"StatName\"]].groupby([\"StatName\",\"tier\",\"division\"]).mean().reset_index()\n",
      "dataLoading.sumCats(df6)\n",
      "df6.sort([\"StatName\",\"tier\",\"division\"]).plot(kind=\"bar\", figsize=(30,30))"
     ],
     "language": "python",
     "metadata": {},
     "outputs": [
      {
       "metadata": {},
       "output_type": "pyout",
       "prompt_number": 13,
       "text": [
        "<matplotlib.axes._subplots.AxesSubplot at 0x995b278>"
       ]
      },
      {
       "metadata": {},
       "output_type": "display_data",
       "png": "[encoded data removed]",
       "text": [
        "<matplotlib.figure.Figure at 0x995b048>"
       ]
      }
     ],
     "prompt_number": 13
    },
    {
     "cell_type": "code",
     "collapsed": false,
     "input": [
      "#df2.csDiffPerMinDeltas.isnull()\n",
      "for i in df2:\n",
      "    print(i, sum(df2[i].isnull()))"
     ],
     "language": "python",
     "metadata": {},
     "outputs": [
      {
       "output_type": "stream",
       "stream": "stdout",
       "text": [
        "matchId 0\n",
        "participantId"
       ]
      },
      {
       "output_type": "stream",
       "stream": "stdout",
       "text": [
        " 0\n",
        "timePeriod"
       ]
      },
      {
       "output_type": "stream",
       "stream": "stdout",
       "text": [
        " 0\n",
        "creepsPerMinDeltas"
       ]
      },
      {
       "output_type": "stream",
       "stream": "stdout",
       "text": [
        " 30\n",
        "csDiffPerMinDeltas"
       ]
      },
      {
       "output_type": "stream",
       "stream": "stdout",
       "text": [
        " 30119\n",
        "damageTakenDiffPerMinDeltas"
       ]
      },
      {
       "output_type": "stream",
       "stream": "stdout",
       "text": [
        " 30119\n",
        "damageTakenPerMinDeltas"
       ]
      },
      {
       "output_type": "stream",
       "stream": "stdout",
       "text": [
        " 30\n",
        "goldPerMinDeltas"
       ]
      },
      {
       "output_type": "stream",
       "stream": "stdout",
       "text": [
        " 30\n",
        "xpDiffPerMinDeltas"
       ]
      },
      {
       "output_type": "stream",
       "stream": "stdout",
       "text": [
        " 30119\n",
        "xpPerMinDeltas"
       ]
      },
      {
       "output_type": "stream",
       "stream": "stdout",
       "text": [
        " 30\n"
       ]
      }
     ],
     "prompt_number": 31
    },
    {
     "cell_type": "code",
     "collapsed": false,
     "input": [
      "print(len(dfr))\n",
      "print(len(dfr[dfr.isStandardLanesGame]))"
     ],
     "language": "python",
     "metadata": {},
     "outputs": [
      {
       "output_type": "stream",
       "stream": "stdout",
       "text": [
        "553695\n",
        "418645"
       ]
      },
      {
       "output_type": "stream",
       "stream": "stdout",
       "text": [
        "\n"
       ]
      }
     ],
     "prompt_number": 38
    },
    {
     "cell_type": "code",
     "collapsed": false,
     "input": [
      "a = dfr.groupby([\"tier\",\"division\"])[\"isStandardLanesGame\"].apply(lambda x: sum(x)/float(len(x))).sortlevel(1)#.plot(kind=\"bar\")\n",
      "#a\n",
      "a.index.values[0][0]"
     ],
     "language": "python",
     "metadata": {},
     "outputs": [
      {
       "ename": "AttributeError",
       "evalue": "'str' object has no attribute 'dtype'",
       "output_type": "pyerr",
       "traceback": [
        "\u001b[1;31m---------------------------------------------------------------------------\u001b[0m\n\u001b[1;31mAttributeError\u001b[0m                            Traceback (most recent call last)",
        "\u001b[1;32m<ipython-input-56-d4e582c8e329>\u001b[0m in \u001b[0;36m<module>\u001b[1;34m()\u001b[0m\n\u001b[0;32m      1\u001b[0m \u001b[0ma\u001b[0m \u001b[1;33m=\u001b[0m \u001b[0mdfr\u001b[0m\u001b[1;33m.\u001b[0m\u001b[0mgroupby\u001b[0m\u001b[1;33m(\u001b[0m\u001b[1;33m[\u001b[0m\u001b[1;34m\"tier\"\u001b[0m\u001b[1;33m,\u001b[0m\u001b[1;34m\"division\"\u001b[0m\u001b[1;33m]\u001b[0m\u001b[1;33m)\u001b[0m\u001b[1;33m[\u001b[0m\u001b[1;34m\"isStandardLanesGame\"\u001b[0m\u001b[1;33m]\u001b[0m\u001b[1;33m.\u001b[0m\u001b[0mapply\u001b[0m\u001b[1;33m(\u001b[0m\u001b[1;32mlambda\u001b[0m \u001b[0mx\u001b[0m\u001b[1;33m:\u001b[0m \u001b[0msum\u001b[0m\u001b[1;33m(\u001b[0m\u001b[0mx\u001b[0m\u001b[1;33m)\u001b[0m\u001b[1;33m/\u001b[0m\u001b[0mfloat\u001b[0m\u001b[1;33m(\u001b[0m\u001b[0mlen\u001b[0m\u001b[1;33m(\u001b[0m\u001b[0mx\u001b[0m\u001b[1;33m)\u001b[0m\u001b[1;33m)\u001b[0m\u001b[1;33m)\u001b[0m\u001b[1;33m.\u001b[0m\u001b[0msortlevel\u001b[0m\u001b[1;33m(\u001b[0m\u001b[1;36m1\u001b[0m\u001b[1;33m)\u001b[0m\u001b[1;31m#.plot(kind=\"bar\")\u001b[0m\u001b[1;33m\u001b[0m\u001b[0m\n\u001b[0;32m      2\u001b[0m \u001b[1;31m#a\u001b[0m\u001b[1;33m\u001b[0m\u001b[1;33m\u001b[0m\u001b[0m\n\u001b[1;32m----> 3\u001b[1;33m \u001b[0ma\u001b[0m\u001b[1;33m.\u001b[0m\u001b[0mindex\u001b[0m\u001b[1;33m.\u001b[0m\u001b[0mvalues\u001b[0m\u001b[1;33m[\u001b[0m\u001b[1;36m0\u001b[0m\u001b[1;33m]\u001b[0m\u001b[1;33m[\u001b[0m\u001b[1;36m0\u001b[0m\u001b[1;33m]\u001b[0m\u001b[1;33m.\u001b[0m\u001b[0mdtype\u001b[0m\u001b[1;33m\u001b[0m\u001b[0m\n\u001b[0m",
        "\u001b[1;31mAttributeError\u001b[0m: 'str' object has no attribute 'dtype'"
       ]
      }
     ],
     "prompt_number": 56
    }
   ],
   "metadata": {}
  }
 ]
}