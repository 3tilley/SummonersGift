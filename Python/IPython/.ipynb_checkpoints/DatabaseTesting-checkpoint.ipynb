{
 "metadata": {
  "name": "",
  "signature": "sha256:11ec4f4a50f32c69a01f3ded82b023ad238cfff472ffadfbcce57ced3054c583"
 },
 "nbformat": 3,
 "nbformat_minor": 0,
 "worksheets": [
  {
   "cells": [
    {
     "cell_type": "code",
     "collapsed": false,
     "input": [
      "%matplotlib inline"
     ],
     "language": "python",
     "metadata": {},
     "outputs": [],
     "prompt_number": 1
    },
    {
     "cell_type": "code",
     "collapsed": false,
     "input": [
      "import os\n",
      "import sys\n",
      "import json\n",
      "import datetime\n",
      "from collections import Counter\n",
      "from __future__ import print_function\n",
      "\n",
      "import pandas as pd\n",
      "import numpy as np\n",
      "import matplotlib\n",
      "import matplotlib.pyplot as plt\n",
      "\n",
      "import sqlalchemy\n",
      "import pyodbc"
     ],
     "language": "python",
     "metadata": {},
     "outputs": [],
     "prompt_number": 5
    },
    {
     "cell_type": "code",
     "collapsed": false,
     "input": [
      "cnxn = pyodbc.connect()\n",
      "cursor = cnxn.cursor()\n",
      "row = cursor.execute(\"select * from Tier\")\n",
      "if row:\n",
      "    print(row.description)"
     ],
     "language": "python",
     "metadata": {},
     "outputs": [
      {
       "output_type": "stream",
       "stream": "stdout",
       "text": [
        "(('TierId', <type 'int'>, None, 3, 3, 0, False), ('TierName', <type 'str'>, None, 50, 50, 0, False), ('TierJson', <type 'str'>, None, 50, 50, 0, False))\n"
       ]
      }
     ],
     "prompt_number": 42
    },
    {
     "cell_type": "code",
     "collapsed": false,
     "input": [
      "e = sqlalchemy.create_engine()\n",
      "pd.read_sql_table(\"Tier\", e)"
     ],
     "language": "python",
     "metadata": {},
     "outputs": [
      {
       "html": [
        "<div style=\"max-height:1000px;max-width:1500px;overflow:auto;\">\n",
        "<table border=\"1\" class=\"dataframe\">\n",
        "  <thead>\n",
        "    <tr style=\"text-align: right;\">\n",
        "      <th></th>\n",
        "      <th>TierId</th>\n",
        "      <th>TierName</th>\n",
        "      <th>TierJson</th>\n",
        "    </tr>\n",
        "  </thead>\n",
        "  <tbody>\n",
        "    <tr>\n",
        "      <th>0</th>\n",
        "      <td>0</td>\n",
        "      <td>Unranked</td>\n",
        "      <td>UNRANKED</td>\n",
        "    </tr>\n",
        "    <tr>\n",
        "      <th>1</th>\n",
        "      <td>1</td>\n",
        "      <td>Bronze</td>\n",
        "      <td>BRONZE</td>\n",
        "    </tr>\n",
        "    <tr>\n",
        "      <th>2</th>\n",
        "      <td>2</td>\n",
        "      <td>Silver</td>\n",
        "      <td>SILVER</td>\n",
        "    </tr>\n",
        "    <tr>\n",
        "      <th>3</th>\n",
        "      <td>3</td>\n",
        "      <td>Gold</td>\n",
        "      <td>GOLD</td>\n",
        "    </tr>\n",
        "    <tr>\n",
        "      <th>4</th>\n",
        "      <td>4</td>\n",
        "      <td>Platinum</td>\n",
        "      <td>PLATINUM</td>\n",
        "    </tr>\n",
        "    <tr>\n",
        "      <th>5</th>\n",
        "      <td>5</td>\n",
        "      <td>Diamond</td>\n",
        "      <td>DIAMOND</td>\n",
        "    </tr>\n",
        "    <tr>\n",
        "      <th>6</th>\n",
        "      <td>6</td>\n",
        "      <td>Master</td>\n",
        "      <td>MASTER</td>\n",
        "    </tr>\n",
        "    <tr>\n",
        "      <th>7</th>\n",
        "      <td>7</td>\n",
        "      <td>Challenger</td>\n",
        "      <td>CHALLENGER</td>\n",
        "    </tr>\n",
        "  </tbody>\n",
        "</table>\n",
        "</div>"
       ],
       "metadata": {},
       "output_type": "pyout",
       "prompt_number": 45,
       "text": [
        "   TierId    TierName    TierJson\n",
        "0       0    Unranked    UNRANKED\n",
        "1       1      Bronze      BRONZE\n",
        "2       2      Silver      SILVER\n",
        "3       3        Gold        GOLD\n",
        "4       4    Platinum    PLATINUM\n",
        "5       5     Diamond     DIAMOND\n",
        "6       6      Master      MASTER\n",
        "7       7  Challenger  CHALLENGER"
       ]
      }
     ],
     "prompt_number": 45
    }
   ],
   "metadata": {}
  }
 ]
}