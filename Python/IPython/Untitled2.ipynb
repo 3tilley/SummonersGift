{
 "metadata": {
  "name": "",
  "signature": "sha256:3e748f56bbe067405f4638a80714c5dd3113e2c359d2a15b1178bb667dbd669a"
 },
 "nbformat": 3,
 "nbformat_minor": 0,
 "worksheets": [
  {
   "cells": [
    {
     "cell_type": "code",
     "collapsed": false,
     "input": [
      "\"hello {0}%\".format(\"boo\")"
     ],
     "language": "python",
     "metadata": {},
     "outputs": [
      {
       "metadata": {},
       "output_type": "pyout",
       "prompt_number": 6,
       "text": [
        "'hello boo%'"
       ]
      }
     ],
     "prompt_number": 6
    }
   ],
   "metadata": {}
  }
 ]
}